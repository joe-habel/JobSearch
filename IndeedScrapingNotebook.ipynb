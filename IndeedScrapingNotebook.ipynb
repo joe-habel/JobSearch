{
 "cells": [
  {
   "cell_type": "code",
   "execution_count": 14,
   "metadata": {},
   "outputs": [],
   "source": [
    "from urllib.parse import urlparse, parse_qs\n",
    "\n",
    "from queries import QueryArgument, Query, SimpleIndeedQuery, AdvancedIndeedQuery"
   ]
  },
  {
   "cell_type": "markdown",
   "metadata": {},
   "source": [
    "# Indeed Scraping Overview\n",
    "\n",
    "I wrote an indeed scraper back in 2018, but it looks like they added some fancy new JS to their site. I'm gonna document the exploratory scraping process here.\n"
   ]
  },
  {
   "cell_type": "markdown",
   "metadata": {},
   "source": [
    "## Queries\n",
    "\n",
    "It's probably best to start at the entry point to the site. In our case with indeed, the entry point is going to be their search routes that they have built it. From looking at the site, it appears there's the standard simple search that you can reach from the landing page, and an advanced search hidden behind a link.\n",
    "\n",
    "### Simple Search\n",
    "\n",
    "Let's start by figuring out everything that Indeed passes on when we perform a routine search directly from\n",
    "https://indeed.com. We can do that by just filling any entries with known values, and seeing what the parameters get passed through to the url. Here's what we'll be using as the reference search:\n",
    "\n",
    "![Simple Search](simple-search.png)\n",
    "\n",
    "which gives us a url of https://www.indeed.com/jobs?q=job+$60,000&l=Cheyenne,+WY&radius=15&rbc=State+of+Wyoming&jcid=45d7691df85ac203&jt=fulltime&explvl=entry_level.\n",
    "\n",
    "Let's make use of urllib to see what data was associated with each of those fields."
   ]
  },
  {
   "cell_type": "code",
   "execution_count": 15,
   "metadata": {},
   "outputs": [
    {
     "data": {
      "text/plain": [
       "{'q': ['job $60,000'],\n",
       " 'l': ['Cheyenne, WY'],\n",
       " 'radius': ['15'],\n",
       " 'rbc': ['State of Wyoming'],\n",
       " 'jcid': ['45d7691df85ac203'],\n",
       " 'jt': ['fulltime'],\n",
       " 'explvl': ['entry_level']}"
      ]
     },
     "execution_count": 15,
     "metadata": {},
     "output_type": "execute_result"
    }
   ],
   "source": [
    "url = 'https://www.indeed.com/jobs?q=job+$60,000&l=Cheyenne,+WY&radius=15&rbc=State+of+Wyoming&jcid=45d7691df85ac203&jt=fulltime&explvl=entry_level'\n",
    "params = urlparse(url)\n",
    "parse_qs(params.query)"
   ]
  },
  {
   "cell_type": "markdown",
   "metadata": {},
   "source": [
    "#### Observations\n",
    "\n",
    "* It appears that the salary gets brought up into the query, and just seperated by a space.\n",
    "* It looks like the upper bound of the salary was just ignored.\n",
    "* It looks as if the rbc/jcid work in tandem for identifying the specific company.\n",
    "* The options for the job type look like they ignore the given space.\n",
    "* The options for job level look like they use an underscore for the space.\n",
    "* Going to the next page adds a parameter 'start', with it's value being what number entry to start on.\n",
    "* Searching without 'l' throws a validation error.\n",
    "\n",
    "#### Defining the Simple Query Argument Objects\n",
    "\n",
    "We'll make use of the QueryArgument dataclass object that we defined to code up what we just discovered."
   ]
  },
  {
   "cell_type": "code",
   "execution_count": 16,
   "metadata": {},
   "outputs": [],
   "source": [
    "what = QueryArgument('q', str, disp_name='What')\n",
    "where = QueryArgument('l', str, required=True, disp_name='Where')\n",
    "radius = QueryArgument('radius', int, choices=(0, 5, 10, 15, 25, 50, 100), disp_name=\"Miles away\")\n",
    "min_salary = QueryArgument('q', int, fmt=\"${}\", disp_name=\"Minimum Salary\")\n",
    "company = QueryArgument('rbc', str, requires='jcid', disp_name=\"Compay Name\")\n",
    "company_id = QueryArgument('jcid', str, requires='rbc', disp_name=\"Company id\")\n",
    "job_type = QueryArgument('jt', str, choices=('fulltime', 'parttime', 'contract', 'internship', 'temporary', 'commission'), disp_name=\"Job Type\")\n",
    "experience = QueryArgument('explvl', str, choices=('entry_level', 'mid_level', 'senior_level'), disp_name=\"Experience Level\")\n",
    "start = QueryArgument('start', int, disp_name=\"start\")"
   ]
  },
  {
   "cell_type": "markdown",
   "metadata": {},
   "source": [
    "### Advanced Search\n",
    "\n",
    "Let's nab everything that was being passed to advanced now too. Some of the arguments might be repeated from the simple search, and for those, we'll go ahead and ignore them. We'll use the following advanced search and url to help us figure out the arguments:\n",
    "\n",
    "![Advanced Search](advanced-search.png)\n",
    "\n",
    "which gives a url of https://www.indeed.com/jobs?as_and=with_all_of_these_words&as_phr=with_the_exact_phrase&as_any=with_at_least_one_of_these_words&as_not=with_none_of_these_words&as_ttl=with_these_words_in_the_title&as_cmp=from_this_company&jt=all&st=jobsite&sr=directhire&as_src=from_this_job_site&salary=&radius=15&l=San+Francisco%2C+CA&fromage=15&limit=20&sort=date&psf=advsrch&from=advancedsearch.\n",
    "\n",
    "Again, let's use urllib to make better sense of this."
   ]
  },
  {
   "cell_type": "code",
   "execution_count": 18,
   "metadata": {},
   "outputs": [
    {
     "data": {
      "text/plain": [
       "{'as_and': ['with_all_of_these_words'],\n",
       " 'as_phr': ['with_the_exact_phrase'],\n",
       " 'as_any': ['with_at_least_one_of_these_words'],\n",
       " 'as_not': ['with_none_of_these_words'],\n",
       " 'as_ttl': ['with_these_words_in_the_title'],\n",
       " 'as_cmp': ['from_this_company'],\n",
       " 'jt': ['all'],\n",
       " 'st': ['jobsite'],\n",
       " 'sr': ['directhire'],\n",
       " 'as_src': ['from_this_job_site'],\n",
       " 'radius': ['15'],\n",
       " 'l': ['San Francisco, CA'],\n",
       " 'fromage': ['15'],\n",
       " 'limit': ['20'],\n",
       " 'sort': ['date'],\n",
       " 'psf': ['advsrch'],\n",
       " 'from': ['advancedsearch']}"
      ]
     },
     "execution_count": 18,
     "metadata": {},
     "output_type": "execute_result"
    }
   ],
   "source": [
    "url = 'https://www.indeed.com/jobs?as_and=with_all_of_these_words&as_phr=with_the_exact_phrase&as_any=with_at_least_one_of_these_words&as_not=with_none_of_these_words&as_ttl=with_these_words_in_the_title&as_cmp=from_this_company&jt=all&st=jobsite&sr=directhire&as_src=from_this_job_site&salary=&radius=15&l=San+Francisco%2C+CA&fromage=15&limit=20&sort=date&psf=advsrch&from=advancedsearch'\n",
    "params = urlparse(url)\n",
    "parse_qs(params.query)"
   ]
  },
  {
   "cell_type": "markdown",
   "metadata": {},
   "source": [
    "#### Observations\n",
    "\n",
    "* We have an overlap of 'l', 'jt', and 'radius'\n",
    "* 'q' looks like it's been expanded to handle input from a combination of any 'as_\\*' arguments\n",
    "* 'st' corresponds to the \"Show jobs from\" dropdown, with choices being 'jobsite', and 'employer'\n",
    "* 'sr' only has a value when \"Exclude staffing agencies is checked\", and that value is 'directhire'\n",
    "* 'fromage' can be either 'last', 1, 3, 7, 15, or 'any'\n",
    "* 'limit' is the amount of entries to be displayed per page\n",
    "* 'sort' only has a value for 'date'. The relevance choice gives no 'sort' parameter.\n",
    "* 'psf' and 'from' are always 'advsrch' and 'advancedsearch' respectively\n",
    "* 'start' is still the parameters for controlling paging\n",
    "\n",
    "#### Defining the Advanced Query Arguments\n",
    "\n",
    "Let's formalize the rest of the arguments into Python"
   ]
  },
  {
   "cell_type": "code",
   "execution_count": 19,
   "metadata": {},
   "outputs": [],
   "source": [
    "#Search Strings\n",
    "all_of_these_words = QueryArgument('as_and', str, disp_name='All of these words')\n",
    "exact_phrase = QueryArgument('as_phr', str, disp_name='Exact phrase')\n",
    "any_of_these_words = QueryArgument('as_any', str, disp_name=\"Any of these words\")\n",
    "none_of_these_words = QueryArgument('as_not', str, disp_name=\"None of these words\")\n",
    "title_words = QueryArgument('as_ttl', str, disp_name=\"These words in title\")\n",
    "from_company = QueryArgument('as_cmp', str, disp_name=\"From this company\")\n",
    "from_this_job_site = QueryArgument('as_src', str, disp_name=\"From this job site\")\n",
    "\n",
    "#Ad Origin\n",
    "posted_to = QueryArgument('st', str, choices=('jobsite', 'employer'), disp_name=\"Posted to\")\n",
    "hired_by = QueryArgument('sr', str, choices=('directhire',), disp_name=\"Who handles hiring\")\n",
    "\n",
    "#Sort and paging\n",
    "sort_by = QueryArgument('sort', str, choices=('date',), disp_name=\"Sort by\")\n",
    "limit = QueryArgument('limit', int, choices=(10, 20, 30, 50), disp_name=\"Per Page\")\n",
    "\n",
    "#Age\n",
    "from_age = QueryArgument('fromage', choices=('last', 1, 3, 7, 15, 'any'), disp_name=\"Max days old\")\n",
    "\n",
    "#Magic Args\n",
    "psf = QueryArgument('psf', str, required=True, value='advsrch', mutable=False, requires='from')\n",
    "searched_from = QueryArgument('from', str, required=True, value='advancedsearch', mutable=False, requires='psf')"
   ]
  },
  {
   "cell_type": "markdown",
   "metadata": {},
   "source": [
    "### The Query Object\n",
    "\n",
    "Now that we have all of the query arguments for both query types. Let's go ahead and define our query objects to work with.\n",
    "\n",
    "#### The Simple Query\n",
    "\n",
    "This is the base query that we encounter on Indeed's landing page."
   ]
  },
  {
   "cell_type": "code",
   "execution_count": 20,
   "metadata": {},
   "outputs": [],
   "source": [
    "simple_kwargs = {\n",
    "    'what' : what,\n",
    "    'where' : where,\n",
    "    'radius' : radius,\n",
    "    'min_salary' : min_salary,\n",
    "    'company' : company,\n",
    "    'company_id' : company_id,\n",
    "    'job_type' : job_type,\n",
    "    'experience' : experience,\n",
    "    'start' : start\n",
    "}\n",
    "\n",
    "IndeedSimple = Query('https://indeed.com/jobs', **simple_kwargs)"
   ]
  },
  {
   "cell_type": "markdown",
   "metadata": {},
   "source": [
    "#### The Advanced Query\n",
    "\n",
    "This is the query that we encounter from the \"Advanced Search\" link."
   ]
  },
  {
   "cell_type": "code",
   "execution_count": 21,
   "metadata": {},
   "outputs": [],
   "source": [
    "advanced_kwargs = {\n",
    "    'where' : where,\n",
    "    'radius' : radius,\n",
    "    'min_salary' : min_salary,\n",
    "    'job_type' : job_type,\n",
    "    'experience' : experience,\n",
    "    'start' : start,\n",
    "    'all_words' : all_of_these_words,\n",
    "    'exact_phrase' : exact_phrase,\n",
    "    'any_words' : any_of_these_words,\n",
    "    'none_words' : none_of_these_words,\n",
    "    'title_words' : title_words,\n",
    "    'from_company' : from_company,\n",
    "    'from_job_site' : from_this_job_site,\n",
    "    'posted_to' : posted_to,\n",
    "    'hired_by' : hired_by,\n",
    "    'sort_by' : sort_by,\n",
    "    'limit' : limit,\n",
    "    'age' : from_age,\n",
    "    'psf' : psf,\n",
    "    'searched_from': searched_from\n",
    "}\n",
    "\n",
    "IndeedAdvanced = Query('https://indeed.com/jobs', **advanced_kwargs)"
   ]
  },
  {
   "cell_type": "markdown",
   "metadata": {},
   "source": [
    "### Using the Query Objects\n",
    "\n",
    "We can now make use of these query objects by setting the arguments via setattr calls. For example, if we wanted a simple query, where we were searching for \"python\" as the what, \"New York City, New York\" as the where, for full-time, mid-level, positions, we could simply use the object to get our search url as follows."
   ]
  },
  {
   "cell_type": "code",
   "execution_count": 22,
   "metadata": {},
   "outputs": [
    {
     "data": {
      "text/plain": [
       "'https://indeed.com/jobs?q=python&l=New+York+City%2C+New+York&jt=fulltime&explvl=mid_level'"
      ]
     },
     "execution_count": 22,
     "metadata": {},
     "output_type": "execute_result"
    }
   ],
   "source": [
    "IndeedSimple.what = \"python\"\n",
    "IndeedSimple.where = \"New York City, New York\"\n",
    "IndeedSimple.job_type = \"fulltime\"\n",
    "IndeedSimple.experience = \"mid_level\"\n",
    "\n",
    "IndeedSimple.url"
   ]
  },
  {
   "cell_type": "markdown",
   "metadata": {},
   "source": [
    "And we can use the advanced object the same way. Let's now go the same thing, but we want Python to be in the title, and we don't want to be writing any C#, VBA, or .NET."
   ]
  },
  {
   "cell_type": "code",
   "execution_count": 23,
   "metadata": {},
   "outputs": [
    {
     "data": {
      "text/plain": [
       "'https://indeed.com/jobs?l=New+York+City%2C+New+York&jt=fulltime&explvl=mid_level&as_not=C%23+.NET+VBA&as_ttl=python&psf=advsrch&from=advancedsearch'"
      ]
     },
     "execution_count": 23,
     "metadata": {},
     "output_type": "execute_result"
    }
   ],
   "source": [
    "IndeedAdvanced.title_words = \"python\"\n",
    "IndeedAdvanced.none_words = \"C# .NET VBA\"\n",
    "IndeedAdvanced.where = \"New York City, New York\"\n",
    "IndeedAdvanced.job_type = \"fulltime\"\n",
    "IndeedAdvanced.experience = \"mid_level\"\n",
    "\n",
    "IndeedAdvanced.url"
   ]
  },
  {
   "cell_type": "markdown",
   "metadata": {},
   "source": [
    "### Indeed Specific Objects\n",
    "\n",
    "While, we have access and control to the full Query object, until Indeed changes their site again, these parameters can all basically stay the same, the only thing we're going to be changing is the values. We'll take what we discovered from above and use it to create the Indeed specific query objects."
   ]
  },
  {
   "cell_type": "code",
   "execution_count": 24,
   "metadata": {},
   "outputs": [
    {
     "data": {
      "text/plain": [
       "'https://indeed.com/jobs?q=Python&l=New+York+City%2C+New+York&explvl=mid_level'"
      ]
     },
     "execution_count": 24,
     "metadata": {},
     "output_type": "execute_result"
    }
   ],
   "source": [
    "simple = SimpleIndeedQuery(where=\"New York City, New York\", what=\"Python\")\n",
    "simple.url"
   ]
  },
  {
   "cell_type": "code",
   "execution_count": 25,
   "metadata": {},
   "outputs": [
    {
     "data": {
      "text/plain": [
       "'https://indeed.com/jobs?l=San+Francisco%2C+CA&explvl=mid_level&sr=directhire&sort=date&fromage=15&psf=advsrch&from=advancedsearch'"
      ]
     },
     "execution_count": 25,
     "metadata": {},
     "output_type": "execute_result"
    }
   ],
   "source": [
    "advanced = AdvancedIndeedQuery(where=\"San Francisco, CA\", hired_by=\"directhire\", experience=\"mid_level\",\n",
    "                              sort_by=\"date\", age=15)\n",
    "advanced.url"
   ]
  },
  {
   "cell_type": "markdown",
   "metadata": {},
   "source": [
    "## Scraping Page Results\n",
    "\n",
    "Now that we can generate any search url, let's setup our methods for scraping the results from each query."
   ]
  },
  {
   "cell_type": "code",
   "execution_count": null,
   "metadata": {},
   "outputs": [],
   "source": []
  }
 ],
 "metadata": {
  "kernelspec": {
   "display_name": "Python 3",
   "language": "python",
   "name": "python3"
  },
  "language_info": {
   "codemirror_mode": {
    "name": "ipython",
    "version": 3
   },
   "file_extension": ".py",
   "mimetype": "text/x-python",
   "name": "python",
   "nbconvert_exporter": "python",
   "pygments_lexer": "ipython3",
   "version": "3.8.2"
  }
 },
 "nbformat": 4,
 "nbformat_minor": 4
}
